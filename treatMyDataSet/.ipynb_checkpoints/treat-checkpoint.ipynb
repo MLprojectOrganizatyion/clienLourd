{
 "cells": [
  {
   "cell_type": "code",
   "execution_count": 110,
   "metadata": {},
   "outputs": [],
   "source": [
    "import numpy as np\n",
    "import matplotlib.pyplot as plt\n",
    "import os\n",
    "import os.path\n",
    "import cv2\n",
    "from tqdm import tqdm\n",
    "from PIL import Image"
   ]
  },
  {
   "cell_type": "markdown",
   "metadata": {},
   "source": [
    "## 1. Rename data"
   ]
  },
  {
   "cell_type": "code",
   "execution_count": 111,
   "metadata": {},
   "outputs": [],
   "source": [
    "def rename_multiple_files(path,obj):\n",
    "    for i, filename in enumerate(os.listdir(path)):\n",
    "        try:\n",
    "            if image.endswith('.png'):\n",
    "                os.rename(path + filename, path + obj +str(i) + \".png\")\n",
    "        except:\n",
    "            continue\n"
   ]
  },
  {
   "cell_type": "code",
   "execution_count": 112,
   "metadata": {},
   "outputs": [
    {
     "name": "stdout",
     "output_type": "stream",
     "text": [
      "Rename successful.\n",
      "Rename successful.\n",
      "Rename successful.\n",
      "Rename successful.\n"
     ]
    }
   ],
   "source": [
    "path_sign_20 = \"C:/Users/33769/MLproject/treatMyDataSet/dataV0/0/\"\n",
    "path_sign_30 = \"C:/Users/33769/MLproject/treatMyDataSet/dataV0/1/\"\n",
    "path_sign_50 = \"C:/Users/33769/MLproject/treatMyDataSet/dataV0/2/\"\n",
    "path_sign_60 = \"C:/Users/33769/MLproject/treatMyDataSet/dataV0/3/\"\n",
    "\n",
    "path_tab =[path_sign_20,path_sign_30,path_sign_50,path_sign_60]\n",
    "\n",
    "obj_20=\"traffic_20_sign_\"\n",
    "obj_30=\"traffic_30_sign_\"\n",
    "obj_50=\"traffic_50_sign_\"\n",
    "obj_60=\"traffic_60_sign_\"\n",
    "\n",
    "obj_tab = [obj_20,obj_30,obj_50,obj_60]\n",
    "\n",
    "for p in path_tab:\n",
    "     \n",
    "    if p == path_sign_20: \n",
    "        rename_multiple_files(path_sign_20,obj_20)\n",
    "    if p ==  path_sign_30: \n",
    "        rename_multiple_files(path_sign_30,obj_30) \n",
    "    if p ==  path_sign_50: \n",
    "        rename_multiple_files(path_sign_50,obj_50) \n",
    "    if p ==  path_sign_60: \n",
    "        rename_multiple_files(path_sign_60,obj_60) \n",
    "\n",
    "    print('Rename successful.')\n"
   ]
  },
  {
   "cell_type": "markdown",
   "metadata": {},
   "source": [
    "\n",
    "## 2. Resize"
   ]
  },
  {
   "cell_type": "code",
   "execution_count": 116,
   "metadata": {},
   "outputs": [],
   "source": [
    "def resize_multiple_images(src_path, dst_path):\n",
    "    # Here src_path is the location where images are saved.\n",
    "    for filename in os.listdir(src_path):\n",
    "        try:\n",
    "            img=Image.open(src_path+filename)\n",
    "            new_img = img.resize((64,64))\n",
    "            if not os.path.exists(dst_path):\n",
    "                os.makedirs(dst_path)\n",
    "            new_img.save(dst_path+filename)\n",
    "        except:\n",
    "            continue"
   ]
  },
  {
   "cell_type": "code",
   "execution_count": 117,
   "metadata": {},
   "outputs": [],
   "source": [
    "dst_path = \"C:/Users/33769/MLproject/treatMyDataSet/train/\""
   ]
  },
  {
   "cell_type": "code",
   "execution_count": 118,
   "metadata": {},
   "outputs": [
    {
     "name": "stdout",
     "output_type": "stream",
     "text": [
      "Resize successful.\n",
      "Resize successful.\n",
      "Resize successful.\n",
      "Resize successful.\n"
     ]
    }
   ],
   "source": [
    "for p in path_tab:\n",
    "     \n",
    "    if p == path_sign_20: \n",
    "        resize_multiple_images(path_sign_20,dst_path)\n",
    "    if p ==  path_sign_30: \n",
    "        resize_multiple_images(path_sign_30,dst_path) \n",
    "    if p ==  path_sign_50: \n",
    "        resize_multiple_images(path_sign_50,dst_path) \n",
    "    if p ==  path_sign_60: \n",
    "        resize_multiple_images(path_sign_60,dst_path) \n",
    "\n",
    "    print('Resize successful.')\n"
   ]
  },
  {
   "cell_type": "markdown",
   "metadata": {},
   "source": [
    "## 3. Split Data"
   ]
  },
  {
   "cell_type": "markdown",
   "metadata": {},
   "source": [
    "### 3.1. Count image per folder"
   ]
  },
  {
   "cell_type": "code",
   "execution_count": 128,
   "metadata": {},
   "outputs": [],
   "source": [
    "def count_images(path):\n",
    "    nb_images = len([f for f in os.listdir(path)if f.endswith('.png')])\n",
    "    return nb_images"
   ]
  },
  {
   "cell_type": "code",
   "execution_count": 130,
   "metadata": {},
   "outputs": [
    {
     "name": "stdout",
     "output_type": "stream",
     "text": [
      "nb_sign_20= 210\n",
      "nb_sign_30= 2220\n",
      "nb_sign_50= 2250\n",
      "nb_sign_60= 1410\n"
     ]
    }
   ],
   "source": [
    "nb_sign_20=0\n",
    "nb_sign_30=0\n",
    "nb_sign_50=0\n",
    "nb_sign_60=0\n",
    "\n",
    "for p in path_tab:\n",
    "     \n",
    "    if p == path_sign_20: \n",
    "        nb_sign_20=count_images(p)\n",
    "    if p ==  path_sign_30: \n",
    "        nb_sign_30=count_images(p) \n",
    "    if p ==  path_sign_50: \n",
    "        nb_sign_50=count_images(p) \n",
    "    if p ==  path_sign_60: \n",
    "        nb_sign_60=count_images(p) \n",
    "\n",
    "\n",
    "print('nb_sign_20=',nb_sign_20)\n",
    "print('nb_sign_30=',nb_sign_30)\n",
    "print('nb_sign_50=',nb_sign_50)\n",
    "print('nb_sign_60=',nb_sign_60)\n"
   ]
  },
  {
   "cell_type": "markdown",
   "metadata": {},
   "source": [
    "### 3.2. Get percentages"
   ]
  },
  {
   "cell_type": "code",
   "execution_count": 135,
   "metadata": {},
   "outputs": [
    {
     "name": "stdout",
     "output_type": "stream",
     "text": [
      "nb_test_sign_20= 42\n",
      "nb_test_sign_30= 444\n",
      "nb_test_sign_50= 450\n",
      "nb_test_sign_60= 282\n"
     ]
    }
   ],
   "source": [
    "nb_test_sign_20=int((nb_sign_20*20)/100)\n",
    "nb_test_sign_30=int((nb_sign_30*20)/100)\n",
    "nb_test_sign_50=int((nb_sign_50*20)/100)\n",
    "nb_test_sign_60=int((nb_sign_60*20)/100)\n",
    "print('nb_test_sign_20=',nb_test_sign_20)\n",
    "print('nb_test_sign_30=',nb_test_sign_30)\n",
    "print('nb_test_sign_50=',nb_test_sign_50)\n",
    "print('nb_test_sign_60=',nb_test_sign_60)"
   ]
  },
  {
   "cell_type": "code",
   "execution_count": null,
   "metadata": {},
   "outputs": [],
   "source": [
    "     img=Image.open(src_path+filename)\n",
    "            new_img = img.resize((64,64))\n",
    "            if not os.path.exists(dst_path):\n",
    "                os.makedirs(dst_path)\n",
    "            new_img.save(dst_path+filename)"
   ]
  },
  {
   "cell_type": "markdown",
   "metadata": {},
   "source": [
    "### 3.3. Move data to test folder"
   ]
  },
  {
   "cell_type": "code",
   "execution_count": 162,
   "metadata": {},
   "outputs": [],
   "source": [
    "from sklearn.model_selection import train_test_split\n",
    "\n",
    "def split_data(path,nb_images_test):\n",
    "    images_tab = os.listdir(path)\n",
    "    return images_tab[:nb_images_test]\n",
    "\n",
    "\n",
    "#images_tab = split_data(path_sign_20,nb_test_sign_20)\n",
    "#print(len(images_tab))"
   ]
  },
  {
   "cell_type": "code",
   "execution_count": 177,
   "metadata": {},
   "outputs": [],
   "source": [
    "import shutil\n",
    "def move(src_path,nb_images_test, dst_path):\n",
    "    images_tab = split_data(src_path,nb_images_test)\n",
    "    for filename in images_tab:\n",
    "        img=Image.open(src_path+filename)\n",
    "        if not os.path.exists(dst_path):\n",
    "                    os.makedirs(dst_path)\n",
    "        #img.save(dst_path+filename)\n",
    "        shutil.move(src_path+filename, dst_path+filename)\n",
    "        # win32file.MoveFile(src_path+filename, dst_path)"
   ]
  },
  {
   "cell_type": "code",
   "execution_count": 172,
   "metadata": {
    "collapsed": true
   },
   "outputs": [
    {
     "ename": "PermissionError",
     "evalue": "[WinError 32] The process cannot access the file because it is being used by another process: 'C:/Users/33769/MLproject/treatMyDataSet/test/traffic_20_sign_0.png'",
     "output_type": "error",
     "traceback": [
      "\u001b[1;31m---------------------------------------------------------------------------\u001b[0m",
      "\u001b[1;31mPermissionError\u001b[0m                           Traceback (most recent call last)",
      "\u001b[1;32m~\\miniconda3\\envs\\ESGIMOUNA\\lib\\shutil.py\u001b[0m in \u001b[0;36mmove\u001b[1;34m(src, dst, copy_function)\u001b[0m\n\u001b[0;32m    565\u001b[0m     \u001b[1;32mtry\u001b[0m\u001b[1;33m:\u001b[0m\u001b[1;33m\u001b[0m\u001b[1;33m\u001b[0m\u001b[0m\n\u001b[1;32m--> 566\u001b[1;33m         \u001b[0mos\u001b[0m\u001b[1;33m.\u001b[0m\u001b[0mrename\u001b[0m\u001b[1;33m(\u001b[0m\u001b[0msrc\u001b[0m\u001b[1;33m,\u001b[0m \u001b[0mreal_dst\u001b[0m\u001b[1;33m)\u001b[0m\u001b[1;33m\u001b[0m\u001b[1;33m\u001b[0m\u001b[0m\n\u001b[0m\u001b[0;32m    567\u001b[0m     \u001b[1;32mexcept\u001b[0m \u001b[0mOSError\u001b[0m\u001b[1;33m:\u001b[0m\u001b[1;33m\u001b[0m\u001b[1;33m\u001b[0m\u001b[0m\n",
      "\u001b[1;31mPermissionError\u001b[0m: [WinError 32] The process cannot access the file because it is being used by another process: 'C:/Users/33769/MLproject/treatMyDataSet/test/traffic_20_sign_0.png' -> 'C:/Users/33769/MLproject/treatMyDataSet/train/traffic_20_sign_0.png'",
      "\nDuring handling of the above exception, another exception occurred:\n",
      "\u001b[1;31mPermissionError\u001b[0m                           Traceback (most recent call last)",
      "\u001b[1;32m<ipython-input-172-63854e74be32>\u001b[0m in \u001b[0;36m<module>\u001b[1;34m\u001b[0m\n\u001b[0;32m      1\u001b[0m \u001b[0mpath\u001b[0m \u001b[1;33m=\u001b[0m \u001b[1;34m\"C:/Users/33769/MLproject/treatMyDataSet/test/\"\u001b[0m\u001b[1;33m\u001b[0m\u001b[1;33m\u001b[0m\u001b[0m\n\u001b[0;32m      2\u001b[0m \u001b[0mdst_path\u001b[0m \u001b[1;33m=\u001b[0m \u001b[1;34m\"C:/Users/33769/MLproject/treatMyDataSet/train/\"\u001b[0m\u001b[1;33m\u001b[0m\u001b[1;33m\u001b[0m\u001b[0m\n\u001b[1;32m----> 3\u001b[1;33m \u001b[0mmove\u001b[0m\u001b[1;33m(\u001b[0m\u001b[0mpath\u001b[0m\u001b[1;33m,\u001b[0m\u001b[0mnb_test_sign_20\u001b[0m\u001b[1;33m,\u001b[0m\u001b[0mdst_path\u001b[0m\u001b[1;33m)\u001b[0m\u001b[1;33m\u001b[0m\u001b[1;33m\u001b[0m\u001b[0m\n\u001b[0m",
      "\u001b[1;32m<ipython-input-170-7fcff2be2a9c>\u001b[0m in \u001b[0;36mmove\u001b[1;34m(src_path, nb_images_test, dst_path)\u001b[0m\n\u001b[0;32m      7\u001b[0m                     \u001b[0mos\u001b[0m\u001b[1;33m.\u001b[0m\u001b[0mmakedirs\u001b[0m\u001b[1;33m(\u001b[0m\u001b[0mdst_path\u001b[0m\u001b[1;33m)\u001b[0m\u001b[1;33m\u001b[0m\u001b[1;33m\u001b[0m\u001b[0m\n\u001b[0;32m      8\u001b[0m         \u001b[1;31m#img.save(dst_path+filename)\u001b[0m\u001b[1;33m\u001b[0m\u001b[1;33m\u001b[0m\u001b[1;33m\u001b[0m\u001b[0m\n\u001b[1;32m----> 9\u001b[1;33m         \u001b[0mshutil\u001b[0m\u001b[1;33m.\u001b[0m\u001b[0mmove\u001b[0m\u001b[1;33m(\u001b[0m\u001b[0msrc_path\u001b[0m\u001b[1;33m+\u001b[0m\u001b[0mfilename\u001b[0m\u001b[1;33m,\u001b[0m \u001b[0mdst_path\u001b[0m\u001b[1;33m+\u001b[0m\u001b[0mfilename\u001b[0m\u001b[1;33m)\u001b[0m\u001b[1;33m\u001b[0m\u001b[1;33m\u001b[0m\u001b[0m\n\u001b[0m",
      "\u001b[1;32m~\\miniconda3\\envs\\ESGIMOUNA\\lib\\shutil.py\u001b[0m in \u001b[0;36mmove\u001b[1;34m(src, dst, copy_function)\u001b[0m\n\u001b[0;32m    579\u001b[0m         \u001b[1;32melse\u001b[0m\u001b[1;33m:\u001b[0m\u001b[1;33m\u001b[0m\u001b[1;33m\u001b[0m\u001b[0m\n\u001b[0;32m    580\u001b[0m             \u001b[0mcopy_function\u001b[0m\u001b[1;33m(\u001b[0m\u001b[0msrc\u001b[0m\u001b[1;33m,\u001b[0m \u001b[0mreal_dst\u001b[0m\u001b[1;33m)\u001b[0m\u001b[1;33m\u001b[0m\u001b[1;33m\u001b[0m\u001b[0m\n\u001b[1;32m--> 581\u001b[1;33m             \u001b[0mos\u001b[0m\u001b[1;33m.\u001b[0m\u001b[0munlink\u001b[0m\u001b[1;33m(\u001b[0m\u001b[0msrc\u001b[0m\u001b[1;33m)\u001b[0m\u001b[1;33m\u001b[0m\u001b[1;33m\u001b[0m\u001b[0m\n\u001b[0m\u001b[0;32m    582\u001b[0m     \u001b[1;32mreturn\u001b[0m \u001b[0mreal_dst\u001b[0m\u001b[1;33m\u001b[0m\u001b[1;33m\u001b[0m\u001b[0m\n\u001b[0;32m    583\u001b[0m \u001b[1;33m\u001b[0m\u001b[0m\n",
      "\u001b[1;31mPermissionError\u001b[0m: [WinError 32] The process cannot access the file because it is being used by another process: 'C:/Users/33769/MLproject/treatMyDataSet/test/traffic_20_sign_0.png'"
     ]
    }
   ],
   "source": [
    "path = \"C:/Users/33769/MLproject/treatMyDataSet/test/\"\n",
    "dst_path = \"C:/Users/33769/MLproject/treatMyDataSet/train/\"\n",
    "move(path,nb_test_sign_20,dst_path)"
   ]
  },
  {
   "cell_type": "code",
   "execution_count": null,
   "metadata": {},
   "outputs": [],
   "source": [
    "from glob import glob\n",
    "from PIL import Image\n",
    "\n",
    "all_images = glob(\"C:/Users/33769/MLproject/treatMyDataSet/test/*.jpg\")\n",
    "\n",
    "for i, im_path in enumerate(all_images):\n",
    "    im = Image.open(im_path)\n",
    "    width = im.width\n",
    "    # we must close the image before moving it to another directory\n",
    "    im.close()\n",
    "\n",
    "    if width < 15:\n",
    "        shutil.move(im_path, 'small_images/')"
   ]
  },
  {
   "cell_type": "code",
   "execution_count": 174,
   "metadata": {},
   "outputs": [
    {
     "ename": "IndexError",
     "evalue": "string index out of range",
     "output_type": "error",
     "traceback": [
      "\u001b[1;31m---------------------------------------------------------------------------\u001b[0m",
      "\u001b[1;31mIndexError\u001b[0m                                Traceback (most recent call last)",
      "\u001b[1;32m<ipython-input-174-0c5dc32582a7>\u001b[0m in \u001b[0;36m<module>\u001b[1;34m\u001b[0m\n\u001b[0;32m      7\u001b[0m     \u001b[1;31m# get all but the last 8 characters to remove\u001b[0m\u001b[1;33m\u001b[0m\u001b[1;33m\u001b[0m\u001b[1;33m\u001b[0m\u001b[0m\n\u001b[0;32m      8\u001b[0m     \u001b[1;31m# the index number and extension\u001b[0m\u001b[1;33m\u001b[0m\u001b[1;33m\u001b[0m\u001b[1;33m\u001b[0m\u001b[0m\n\u001b[1;32m----> 9\u001b[1;33m     \u001b[0mdir_name\u001b[0m \u001b[1;33m=\u001b[0m \u001b[0mfile\u001b[0m\u001b[1;33m[\u001b[0m\u001b[1;33m-\u001b[0m\u001b[1;36m8\u001b[0m\u001b[1;33m]\u001b[0m\u001b[1;33m\u001b[0m\u001b[1;33m\u001b[0m\u001b[0m\n\u001b[0m\u001b[0;32m     10\u001b[0m     \u001b[0mprint\u001b[0m\u001b[1;33m(\u001b[0m\u001b[1;34mf'dir_name: {dir_name}'\u001b[0m\u001b[1;33m)\u001b[0m\u001b[1;33m\u001b[0m\u001b[1;33m\u001b[0m\u001b[0m\n\u001b[0;32m     11\u001b[0m \u001b[1;33m\u001b[0m\u001b[0m\n",
      "\u001b[1;31mIndexError\u001b[0m: string index out of range"
     ]
    }
   ],
   "source": [
    "import os\n",
    "import shutil\n",
    "\n",
    "dir = \"C:/Users/33769/MLproject/treatMyDataSet/test/\"\n",
    "#images_tab = split_data(dir,nb_test_sign_20)\n",
    "for file in os.listdir(dir):\n",
    "    # get all but the last 8 characters to remove\n",
    "    # the index number and extension\n",
    "    dir_name = file[-8]\n",
    "    print(f'dir_name: {dir_name}')\n",
    "\n",
    "    dir_path = dir + dir_name\n",
    "    print(f'dir_path: {dir_path}')\n",
    "    \n",
    "    # check if directory exists or not yet\n",
    "    if not os.path.exists(dir_path):\n",
    "        os.makedirs(dir_path)\n",
    "\n",
    "    if os.path.exists(dir_path):\n",
    "        file_path = dir + file\n",
    "        print(f'file_path: {file_path}')\n",
    "        \n",
    "        # move files into created directory\n",
    "        win32file.MoveFile(file_path, dir_path)"
   ]
  },
  {
   "cell_type": "markdown",
   "metadata": {},
   "source": [
    "## 3. Transform Data"
   ]
  },
  {
   "cell_type": "code",
   "execution_count": null,
   "metadata": {},
   "outputs": [],
   "source": [
    "X_train, X_test, y_train, y_test = train_test_split(df, y, test_size=0.2)\n",
    "print X_train.shape, y_train.shape\n",
    "print X_test.shape,  y_test.shape\n",
    "\n",
    "obj_20=\"traffic_20_sign_\"\n",
    "obj_30=\"traffic_30_sign_\"\n",
    "obj_50=\"traffic_50_sign_\"\n",
    "obj_60=\"traffic_60_sign_\""
   ]
  },
  {
   "cell_type": "code",
   "execution_count": null,
   "metadata": {},
   "outputs": [],
   "source": []
  },
  {
   "cell_type": "code",
   "execution_count": null,
   "metadata": {},
   "outputs": [],
   "source": [
    "nb_sign_20=0\n",
    "nb_sign_30=0\n",
    "nb_sign_50=0\n",
    "nb_sign_60=0\n",
    "\n",
    "for p in path_tab:\n",
    "     \n",
    "    if p == path_sign_20: \n",
    "        nb_sign_20=count_images(p)\n",
    "    if p ==  path_sign_30: \n",
    "        nb_sign_30=count_images(p) \n",
    "    if p ==  path_sign_50: \n",
    "        nb_sign_50=count_images(p) \n",
    "    if p ==  path_sign_60: \n",
    "        nb_sign_60=count_images(p) "
   ]
  },
  {
   "cell_type": "code",
   "execution_count": null,
   "metadata": {},
   "outputs": [],
   "source": [
    "from PIL import Image\n",
    "import os\n",
    "import numpy as np\n",
    "import re\n",
    "\n",
    "#X_train, X_test, y_train, y_test = train_test_split(X,y,test_size=0.3)\n",
    "def get_data(path):\n",
    "    all_images_as_array=[]\n",
    "    label=[]\n",
    "    for filename in os.listdir(path):\n",
    "        try:\n",
    "            if re.match(r'traffic_20_sign_',filename):\n",
    "                label.append(20)\n",
    "            if re.match(r'traffic_30_sign_',filename):\n",
    "                label.append(30)\n",
    "            if re.match(r'traffic_50_sign_',filename):\n",
    "                label.append(50)\n",
    "            if re.match(r'traffic_60_sign_',filename):\n",
    "                label.append(60)\n",
    "            img=Image.open(path + filename)\n",
    "            np_array = np.asarray(img)\n",
    "            l,b,c = np_array.shape\n",
    "            np_array = np_array.reshape(l*b*c,)\n",
    "            all_images_as_array.append(np_array)\n",
    "        except:\n",
    "            continue\n",
    "    return np.array(all_images_as_array), np.array(label)\n",
    "path_to_train_set = <Enter the location of train set>\n",
    "path_to_test_set = <Enter the location of test set>\n",
    "X_train,y_train = get_data(path_to_train_set)\n",
    "X_test, y_test = get_data(path_to_test_set)\n",
    "print('X_train set : ',X_train)\n",
    "print('y_train set : ',y_train)\n",
    "print('X_test set : ',X_test)\n",
    "print('y_test set : ',y_test)"
   ]
  },
  {
   "cell_type": "code",
   "execution_count": null,
   "metadata": {},
   "outputs": [],
   "source": []
  },
  {
   "cell_type": "code",
   "execution_count": null,
   "metadata": {},
   "outputs": [],
   "source": []
  },
  {
   "cell_type": "code",
   "execution_count": null,
   "metadata": {},
   "outputs": [],
   "source": []
  },
  {
   "cell_type": "code",
   "execution_count": null,
   "metadata": {},
   "outputs": [],
   "source": []
  },
  {
   "cell_type": "code",
   "execution_count": null,
   "metadata": {},
   "outputs": [],
   "source": []
  },
  {
   "cell_type": "code",
   "execution_count": null,
   "metadata": {},
   "outputs": [],
   "source": []
  }
 ],
 "metadata": {
  "kernelspec": {
   "display_name": "Python 3",
   "language": "python",
   "name": "python3"
  },
  "language_info": {
   "codemirror_mode": {
    "name": "ipython",
    "version": 3
   },
   "file_extension": ".py",
   "mimetype": "text/x-python",
   "name": "python",
   "nbconvert_exporter": "python",
   "pygments_lexer": "ipython3",
   "version": "3.7.7"
  }
 },
 "nbformat": 4,
 "nbformat_minor": 4
}
